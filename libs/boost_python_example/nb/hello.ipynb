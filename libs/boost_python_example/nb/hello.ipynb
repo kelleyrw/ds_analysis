{
 "metadata": {
  "name": "hello.ipynb"
 },
 "nbformat": 3,
 "nbformat_minor": 0,
 "worksheets": [
  {
   "cells": [
    {
     "cell_type": "code",
     "collapsed": false,
     "input": [
      "# import os, sys\n",
      "#sys.path.append('%s/Development/ds_analysis/bin/release' % os.getenv('HOME'))\n",
      "#print(sys.path)"
     ],
     "language": "python",
     "metadata": {},
     "outputs": [],
     "prompt_number": 5
    },
    {
     "cell_type": "code",
     "collapsed": false,
     "input": [
      "# def append_env(env_name, value):\n",
      "#     env_value = os.getenv(env_name)\n",
      "#     if env_value == None:\n",
      "#         os.environ[env_name] = value\n",
      "#     else:\n",
      "#         os.environ[env_name] = '%s:%s' % (env_value, value)"
     ],
     "language": "python",
     "metadata": {},
     "outputs": [],
     "prompt_number": 6
    },
    {
     "cell_type": "code",
     "collapsed": false,
     "input": [
      "# ds_bin = '%s/Development/ds_analysis/bin/release' % os.getenv('HOME')\n",
      "# append_env('PYTHONPATH', ds_bin)\n",
      "# append_env('DYLD_LIBRARY_PATH', ds_bin)\n",
      "# print(os.getenv('PYTHONPATH'))\n",
      "# print(os.getenv('DYLD_LIBRARY_PATH')) "
     ],
     "language": "python",
     "metadata": {},
     "outputs": [],
     "prompt_number": 7
    },
    {
     "cell_type": "code",
     "collapsed": false,
     "input": [
      "import hello_ext\n",
      "reload(hello_ext)"
     ],
     "language": "python",
     "metadata": {},
     "outputs": [
      {
       "metadata": {},
       "output_type": "pyout",
       "prompt_number": 8,
       "text": [
        "<module 'hello_ext' from '/Users/rwk7t/Development/ds_analysis/bin/release/hello_ext.so'>"
       ]
      }
     ],
     "prompt_number": 8
    },
    {
     "cell_type": "code",
     "collapsed": false,
     "input": [
      "hello_ext.greet()"
     ],
     "language": "python",
     "metadata": {},
     "outputs": [
      {
       "metadata": {},
       "output_type": "pyout",
       "prompt_number": 2,
       "text": [
        "'hello, world'"
       ]
      }
     ],
     "prompt_number": 2
    },
    {
     "cell_type": "code",
     "collapsed": false,
     "input": [
      "import numpy as np;\n",
      "import example\n",
      "\n",
      "z1 = np.zeros((5,6), dtype=float)\n",
      "print(z1)\n",
      "example.fill1(z1)\n",
      "print(z1)\n",
      "example.fill2(z1)\n",
      "print(z1)"
     ],
     "language": "python",
     "metadata": {},
     "outputs": [
      {
       "output_type": "stream",
       "stream": "stdout",
       "text": [
        "[[ 0.  0.  0.  0.  0.  0.]\n",
        " [ 0.  0.  0.  0.  0.  0.]\n",
        " [ 0.  0.  0.  0.  0.  0.]\n",
        " [ 0.  0.  0.  0.  0.  0.]\n",
        " [ 0.  0.  0.  0.  0.  0.]]\n",
        "[[  1.   2.   3.   4.   5.   6.]\n",
        " [  7.   8.   9.  10.  11.  12.]\n",
        " [ 13.  14.  15.  16.  17.  18.]\n",
        " [ 19.  20.  21.  22.  23.  24.]\n",
        " [ 25.  26.  27.  28.  29.  30.]]\n",
        "[[  1.   2.   3.   4.   5.   6.]\n",
        " [  7.   8.   9.  10.  11.  12.]\n",
        " [ 13.  14.  15.  16.  17.  18.]\n",
        " [ 19.  20.  21.  22.  23.  24.]\n",
        " [ 25.  26.  27.  28.  29.  30.]]\n"
       ]
      }
     ],
     "prompt_number": 4
    },
    {
     "cell_type": "code",
     "collapsed": false,
     "input": [],
     "language": "python",
     "metadata": {},
     "outputs": []
    }
   ],
   "metadata": {}
  }
 ]
}