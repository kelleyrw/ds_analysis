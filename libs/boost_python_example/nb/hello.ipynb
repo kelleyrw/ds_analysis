{
 "metadata": {
  "name": "hello.ipynb"
 },
 "nbformat": 3,
 "nbformat_minor": 0,
 "worksheets": [
  {
   "cells": [
    {
     "cell_type": "code",
     "collapsed": false,
     "input": [
      "import sys\n",
      "import os\n",
      "sys.path.append('%s/Development/ds_analysis/bin/release' % os.getenv('HOME'))\n",
      "os.chdir('%s/Development/ds_analysis/programs/boost_python_example' % os.getenv('HOME'))\n",
      "sys.path"
     ],
     "language": "python",
     "metadata": {},
     "outputs": [
      {
       "metadata": {},
       "output_type": "pyout",
       "prompt_number": 12,
       "text": [
        "['',\n",
        " '/Applications/Canopy.app/appdata/canopy-1.4.1.1975.macosx-x86_64/Canopy.app/Contents/lib/python27.zip',\n",
        " '/Applications/Canopy.app/appdata/canopy-1.4.1.1975.macosx-x86_64/Canopy.app/Contents/lib/python2.7',\n",
        " '/Applications/Canopy.app/appdata/canopy-1.4.1.1975.macosx-x86_64/Canopy.app/Contents/lib/python2.7/plat-darwin',\n",
        " '/Applications/Canopy.app/appdata/canopy-1.4.1.1975.macosx-x86_64/Canopy.app/Contents/lib/python2.7/plat-mac',\n",
        " '/Applications/Canopy.app/appdata/canopy-1.4.1.1975.macosx-x86_64/Canopy.app/Contents/lib/python2.7/plat-mac/lib-scriptpackages',\n",
        " '/Applications/Canopy.app/appdata/canopy-1.4.1.1975.macosx-x86_64/Canopy.app/Contents/lib/python2.7/lib-tk',\n",
        " '/Applications/Canopy.app/appdata/canopy-1.4.1.1975.macosx-x86_64/Canopy.app/Contents/lib/python2.7/lib-old',\n",
        " '/Applications/Canopy.app/appdata/canopy-1.4.1.1975.macosx-x86_64/Canopy.app/Contents/lib/python2.7/lib-dynload',\n",
        " '/Users/rwk7t/Library/Enthought/Canopy_64bit/User/lib/python2.7/site-packages',\n",
        " '/Users/rwk7t/Library/Enthought/Canopy_64bit/User/lib/python2.7/site-packages/PIL',\n",
        " '/Applications/Canopy.app/appdata/canopy-1.4.1.1975.macosx-x86_64/Canopy.app/Contents/lib/python2.7/site-packages',\n",
        " '/Applications/Canopy.app/appdata/canopy-1.4.1.1975.macosx-x86_64/Canopy.app/Contents/lib/python2.7/site-packages/IPython/extensions',\n",
        " '/Users/rwk7t/Development/ds_analysis/bin/release',\n",
        " '/Users/rwk7t/Development/ds_analysis/bin/release',\n",
        " '/Users/rwk7t/Development/ds_analysis/bin/release',\n",
        " '/Users/rwk7t/Development/ds_analysis/bin/release']"
       ]
      }
     ],
     "prompt_number": 12
    },
    {
     "cell_type": "code",
     "collapsed": false,
     "input": [
      "sys.path"
     ],
     "language": "python",
     "metadata": {},
     "outputs": [
      {
       "metadata": {},
       "output_type": "pyout",
       "prompt_number": 2,
       "text": [
        "['',\n",
        " '/Applications/Canopy.app/appdata/canopy-1.4.1.1975.macosx-x86_64/Canopy.app/Contents/lib/python27.zip',\n",
        " '/Applications/Canopy.app/appdata/canopy-1.4.1.1975.macosx-x86_64/Canopy.app/Contents/lib/python2.7',\n",
        " '/Applications/Canopy.app/appdata/canopy-1.4.1.1975.macosx-x86_64/Canopy.app/Contents/lib/python2.7/plat-darwin',\n",
        " '/Applications/Canopy.app/appdata/canopy-1.4.1.1975.macosx-x86_64/Canopy.app/Contents/lib/python2.7/plat-mac',\n",
        " '/Applications/Canopy.app/appdata/canopy-1.4.1.1975.macosx-x86_64/Canopy.app/Contents/lib/python2.7/plat-mac/lib-scriptpackages',\n",
        " '/Applications/Canopy.app/appdata/canopy-1.4.1.1975.macosx-x86_64/Canopy.app/Contents/lib/python2.7/lib-tk',\n",
        " '/Applications/Canopy.app/appdata/canopy-1.4.1.1975.macosx-x86_64/Canopy.app/Contents/lib/python2.7/lib-old',\n",
        " '/Applications/Canopy.app/appdata/canopy-1.4.1.1975.macosx-x86_64/Canopy.app/Contents/lib/python2.7/lib-dynload',\n",
        " '/Users/rwk7t/Library/Enthought/Canopy_64bit/User/lib/python2.7/site-packages',\n",
        " '/Users/rwk7t/Library/Enthought/Canopy_64bit/User/lib/python2.7/site-packages/PIL',\n",
        " '/Applications/Canopy.app/appdata/canopy-1.4.1.1975.macosx-x86_64/Canopy.app/Contents/lib/python2.7/site-packages',\n",
        " '/Applications/Canopy.app/appdata/canopy-1.4.1.1975.macosx-x86_64/Canopy.app/Contents/lib/python2.7/site-packages/IPython/extensions',\n",
        " '/Users/rwk7t/Development/ds_analysis/bin/release']"
       ]
      }
     ],
     "prompt_number": 2
    },
    {
     "cell_type": "code",
     "collapsed": false,
     "input": [
      "os.environ['PYTHONPATH'] = '%s/Development/ds_analysis/bin/release' % os.getenv('HOME')\n",
      "os.getenv('PYTHONPATH')"
     ],
     "language": "python",
     "metadata": {},
     "outputs": [
      {
       "metadata": {},
       "output_type": "pyout",
       "prompt_number": 7,
       "text": [
        "'/Users/rwk7t/Development/ds_analysis/bin/release'"
       ]
      }
     ],
     "prompt_number": 7
    },
    {
     "cell_type": "code",
     "collapsed": false,
     "input": [
      "os.environ['DYLD_LIBRARY_PATH'] ='%s/Development/ds_analysis/bin/release:/usr/local/boost/1.49.0/stage/lib' % os.getenv('HOME')\n",
      "os.getenv('DYLD_LIBRARY_PATH')\n",
      "os.environ['LD_LIBRARY_PATH'] = os.getenv('DYLD_LIBRARY_PATH')"
     ],
     "language": "python",
     "metadata": {},
     "outputs": [],
     "prompt_number": 4
    },
    {
     "cell_type": "code",
     "collapsed": false,
     "input": [
      "import hello_ext\n",
      "reload(hello_ext)"
     ],
     "language": "python",
     "metadata": {},
     "outputs": [
      {
       "ename": "ImportError",
       "evalue": "dlopen(/Users/rwk7t/Development/ds_analysis/bin/release/hello_ext.so, 2): Library not loaded: libboost_python.so\n  Referenced from: /Users/rwk7t/Development/ds_analysis/bin/release/hello_ext.so\n  Reason: image not found",
       "output_type": "pyerr",
       "traceback": [
        "\u001b[0;31m---------------------------------------------------------------------------\u001b[0m\n\u001b[0;31mImportError\u001b[0m                               Traceback (most recent call last)",
        "\u001b[0;32m<ipython-input-5-cb2c305d3cc6>\u001b[0m in \u001b[0;36m<module>\u001b[0;34m()\u001b[0m\n\u001b[0;32m----> 1\u001b[0;31m \u001b[0;32mimport\u001b[0m \u001b[0mhello_ext\u001b[0m\u001b[0;34m\u001b[0m\u001b[0m\n\u001b[0m\u001b[1;32m      2\u001b[0m \u001b[0mreload\u001b[0m\u001b[0;34m(\u001b[0m\u001b[0mhello_ext\u001b[0m\u001b[0;34m)\u001b[0m\u001b[0;34m\u001b[0m\u001b[0m\n",
        "\u001b[0;31mImportError\u001b[0m: dlopen(/Users/rwk7t/Development/ds_analysis/bin/release/hello_ext.so, 2): Library not loaded: libboost_python.so\n  Referenced from: /Users/rwk7t/Development/ds_analysis/bin/release/hello_ext.so\n  Reason: image not found"
       ]
      }
     ],
     "prompt_number": 5
    },
    {
     "cell_type": "code",
     "collapsed": false,
     "input": [],
     "language": "python",
     "metadata": {},
     "outputs": []
    }
   ],
   "metadata": {}
  }
 ]
}