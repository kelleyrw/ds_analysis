{
 "metadata": {
  "name": "",
  "signature": "sha256:9bd70d050284cb861b7cd6f73f2a3d185b8f8c359182324bc4b05764790ad767"
 },
 "nbformat": 3,
 "nbformat_minor": 0,
 "worksheets": [
  {
   "cells": [
    {
     "cell_type": "code",
     "collapsed": false,
     "input": [
      "import test_numpy_dict as tnd"
     ],
     "language": "python",
     "metadata": {},
     "outputs": [],
     "prompt_number": 1
    },
    {
     "cell_type": "code",
     "collapsed": false,
     "input": [
      "import numpy as np\n",
      "a1 = np.array([1.,2,3])\n",
      "a2 = np.array([4.,5,6,7])\n",
      "a3 = np.array([[9.,10,11,13],[14,15,16,17]])\n",
      "a4 = np.array([[[9.,10,11,13],[14,15,16,17]], [[9.,10,11,13],[14,15,16,17]]])\n",
      "\n",
      "d = {'one': a1, 'two' : a2, 'three': a3, 'four':a4}\n",
      "\n",
      "tnd.pass_dict_np(d)"
     ],
     "language": "python",
     "metadata": {},
     "outputs": [],
     "prompt_number": 4
    },
    {
     "cell_type": "code",
     "collapsed": false,
     "input": [
      "a4.shape"
     ],
     "language": "python",
     "metadata": {},
     "outputs": [
      {
       "metadata": {},
       "output_type": "pyout",
       "prompt_number": 5,
       "text": [
        "(2, 2, 4)"
       ]
      }
     ],
     "prompt_number": 5
    },
    {
     "cell_type": "code",
     "collapsed": false,
     "input": [],
     "language": "python",
     "metadata": {},
     "outputs": []
    }
   ],
   "metadata": {}
  }
 ]
}