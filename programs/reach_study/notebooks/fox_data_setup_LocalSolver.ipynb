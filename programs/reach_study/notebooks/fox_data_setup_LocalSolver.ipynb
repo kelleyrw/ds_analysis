{
 "metadata": {
  "name": "",
  "signature": "sha256:3f342939f6da3b3e60d3aed3ae86816e1fd121859df1ea78fb52e9647f9da782"
 },
 "nbformat": 3,
 "nbformat_minor": 0,
 "worksheets": [
  {
   "cells": [
    {
     "cell_type": "code",
     "collapsed": false,
     "input": [
      "# load Gurobi\n",
      "import os\n",
      "os.chdir('/usr/local/lib/python2.7/site-packages/gurobipy')\n",
      "from gurobipy import *"
     ],
     "language": "python",
     "metadata": {},
     "outputs": [],
     "prompt_number": 1
    },
    {
     "cell_type": "code",
     "collapsed": false,
     "input": [
      "# change to normal working directory\n",
      "os.chdir('/Users/rkelley/Development/rovi/ds_analysis/programs/reach_study')"
     ],
     "language": "python",
     "metadata": {},
     "outputs": [],
     "prompt_number": 2
    },
    {
     "cell_type": "code",
     "collapsed": false,
     "input": [
      "%matplotlib inline\n",
      "import matplotlib.pylab as plt\n",
      "\n",
      "# expose Local Solver\n",
      "import localsolver_reach as ls\n",
      "\n",
      "plt.rcParams['figure.figsize'] = (10.0, 8.0)\n",
      "\n",
      "import numpy as np\n",
      "import pandas as pd\n",
      "import os\n",
      "import scipy.stats as st\n",
      "import gurobi_helper_functions as ghelp\n",
      "\n",
      "# Autoreload modules after editing\n",
      "%load_ext autoreload\n",
      "%autoreload 2"
     ],
     "language": "python",
     "metadata": {},
     "outputs": [],
     "prompt_number": 3
    },
    {
     "cell_type": "code",
     "collapsed": false,
     "input": [
      "import cProfile"
     ],
     "language": "python",
     "metadata": {},
     "outputs": [],
     "prompt_number": 4
    },
    {
     "cell_type": "code",
     "collapsed": false,
     "input": [
      "# load data\n",
      "prob_df, weight_df = ghelp.load_probability_matrices()\n",
      "\n",
      "# number of unique individuals\n",
      "Ni = prob_df.shape[0]\n",
      "\n",
      "# number of unique programs\n",
      "Np = prob_df.shape[1]\n",
      "\n",
      "# from the probabilities data frame, extract the values for better speed,\n",
      "# and then reduce the number of programs for computational speed\n",
      "p = prob_df.values\n",
      "\n",
      "# do the same for the weights\n",
      "w_array = weight_df.values"
     ],
     "language": "python",
     "metadata": {},
     "outputs": [
      {
       "output_type": "stream",
       "stream": "stdout",
       "text": [
        "\n",
        "Load Probability and Weight's matrices\n",
        "\n",
        "changed working directory to /Users/rkelley/Development/rovi/gurobi/reach_study\n"
       ]
      }
     ],
     "prompt_number": 5
    },
    {
     "cell_type": "code",
     "collapsed": false,
     "input": [
      "# average the weights over the programs (only non-zero values)\n",
      "w_average = np.zeros(shape = [Ni,])\n",
      "for i in np.arange(Ni) :\n",
      "\n",
      "    # select the programs that have non-zero weight\n",
      "    idx = (w_array[i,:] > 0)\n",
      "\n",
      "    # average the non-zero weight\n",
      "    if np.sum(idx) == 0 :\n",
      "        w_average[i] = 0\n",
      "    else :\n",
      "        w_average[i] = np.mean(w_array[i,idx])\n",
      "\n",
      "# rescale the weights so that they sum to 1\n",
      "total_universe = np.sum(w_average)\n",
      "w_array = w_average\n",
      "\n",
      "w = np.matrix(w_array).T\n",
      "\n",
      "w_diag_matrix = np.matrix(np.diag(w_array))"
     ],
     "language": "python",
     "metadata": {},
     "outputs": [],
     "prompt_number": 6
    },
    {
     "cell_type": "markdown",
     "metadata": {},
     "source": [
      "The reach is computed as follows\n",
      "    \\begin{align}\n",
      "    R_{1+} \n",
      "    &= \\sum_{i \\in \\Omega_T} w_i \n",
      "    \\Bigl[\n",
      "         1 - \\prod_{P} \\left( 1- p_i^{(P)} \\right)^{U^{(P)} }\n",
      "     \\Bigr] \\\\\n",
      "     &=\n",
      "     1 -  \\sum_{i \\in \\Omega_T} w_i \n",
      "     \\exp\\Bigl[\n",
      "         \\sum_P U^{(P)} \\log \\left( 1- p_i^{(P)} \\right)\n",
      "     \\Bigr]\n",
      "    \\end{align}  </li>\n",
      "where $P$ denotes the program (i.e. grid cell, celling title, break, etc) and $\\Omega_T$ denotes all individuals $i$ in the target audience $T$.  The term $w_i$ is individual's weight and $p_i^{(P)}$ is probability that $i$ viewed program $P$. Finally, $U^{(P)}$ is the unit count in program $P$."
     ]
    },
    {
     "cell_type": "code",
     "collapsed": false,
     "input": [
      "# %% Build (target) reach function\n",
      "# maximum number of placements to consider\n",
      "np.random.seed(0)\n",
      "target_indices = np.random.choice(Ni, size = Ni/20, replace=False)\n",
      "Ni_target = target_indices.shape[0]\n",
      "\n",
      "# Compute log\n",
      "p_target = p[target_indices,:]\n",
      "log_p = np.matrix(np.log(1-p_target))\n",
      "log_p = np.matrix(np.log(1-p[target_indices,:]))\n",
      "w_target = w[target_indices,:]\n",
      "\n",
      "target_universe = np.sum(w_target)\n",
      "\n",
      "def R(U, sign = 1.0) :\n",
      "    T0 = - (w_target.T*np.exp(log_p*U))[0,0]/target_universe\n",
      "    return(sign*(1+T0))"
     ],
     "language": "python",
     "metadata": {},
     "outputs": [],
     "prompt_number": 7
    },
    {
     "cell_type": "markdown",
     "metadata": {},
     "source": [
      "I'll also compute the linear and quadratic expansion of the reach near $U^{(P)} = [0,0, \\ldots, 0]$.\n",
      "<ul>\n",
      "    <li>linear Expansion:\n",
      "    \\begin{align}\n",
      "    R_{1+} \n",
      "    &\\approx\n",
      "     1 -  \\sum_{i \\in \\Omega_T} w_i \n",
      "     \\Bigl[1 +\n",
      "         \\sum_P U^{(P)} \\log \\left( 1- p_i^{(P)} \\right)\n",
      "     \\Bigr] \\\\\n",
      "     & =   \\sum_P U^{(P)} M_P\n",
      "    \\end{align} \n",
      "   <li>Quadratic Proxy:\n",
      "    \\begin{align}\n",
      "    R_{1+} \n",
      "    &\\approx \\sum_P U^{(P)} M_P +  \\sum_{P,P'} U^{(P)}U^{(P')} M_{PP'}\n",
      "    \\end{align} \n",
      "    </li>\n",
      "</ul>\n",
      "where we have defined\n",
      "    \\begin{align}\n",
      "         M^{(0)}_P &= [\\mathbf{M}^{(0)}_1]_P = \n",
      "         -\\sum_{i \\in \\Omega_T} w_i \n",
      "          \\log \\left( 1- p_i^{(P)} \\right) \\\\\n",
      "         M^{(0)}_{PP'} &= [\\mathbf{M}^{(0)}_2]_{PP'} =\n",
      "         - \n",
      "         \\sum_{i \\in \\Omega_T} w_i \n",
      "          \\log \\left( 1- p_i^{(P)} \\right)\n",
      "          \\log \\left( 1- p_i^{(P')} \\right)\n",
      "    \\end{align} "
     ]
    },
    {
     "cell_type": "markdown",
     "metadata": {},
     "source": [
      "In Matrix Notation, the linear and quadratic approximations become:\n",
      "<ul>\n",
      "    <li>linear Expansion:\n",
      "    \\begin{align}\n",
      "    L(\\mathbf{U}) =  \\mathbf{M}_{1}^T \\mathbf{U}\n",
      "    \\end{align} \n",
      "   <li>Quadratic Proxy:\n",
      "    \\begin{align}\n",
      "    Q(\\mathbf{U}) =  \\mathbf{M}_{1}^T \\mathbf{U} +  \\mathbf{U}^T\\mathbf{M}_{2}\\mathbf{U}\n",
      "    \\end{align} \n",
      "    </li>\n",
      "</ul>"
     ]
    },
    {
     "cell_type": "markdown",
     "metadata": {},
     "source": [
      "These linear and quadratic expansions were made about $U^{(P)} = [0, \\cdots, 0]$.  If we instead expand around a different point, say $U_0^{(P)}$, then we approximate the $R_{1+}$ as follows:\n",
      "\n",
      "\\begin{align}\n",
      "    R_{1+} \n",
      "    &\\approx 1 \\ - \\sum_{i \\in \\Omega_T} w_i  \\exp \\left( \\sum_P U_0^{(P)} \\log(1-p_i^{(P)}) \\right) \\\\\n",
      "    & \\qquad\n",
      "     - \\sum_P \\left(U^{(P)} - U_0^{(P)} \\right)\n",
      "         \\sum_{i \\in \\Omega_T} w_i \\exp \\left( \\sum_P U_0^{(P)} \\log(1-p_i^{(P)}) \\right)\n",
      "          \\log \\left( 1- p_i^{(P)} \\right) \\\\\n",
      "    &\\qquad     - \\frac{1}{2}\\sum_{P,P'} \\left(U^{(P)} - U_0^{(P)} \\right)\\left(U^{(P')} - U_0^{(P')} \\right)\n",
      "         \\sum_{i \\in \\Omega_T} w_i \\exp \\left( \\sum_P U_0^{(P)} \\log(1-p_i^{(P)}) \\right)\n",
      "          \\log \\left( 1- p_i^{(P)} \\right)\n",
      "          \\log \\left( 1- p_i^{(P')} \\right)\n",
      "\\end{align}\n",
      "\n",
      "Or, in matrix notation\n",
      "\n",
      "\\begin{align}\n",
      "    R_{1+} \n",
      "    &\\approx 1 +M_0 \n",
      "    +\\mathbf{M}_1^T(\\mathbf{U} - \\mathbf{U}_0)\n",
      "    +(\\mathbf{U} - \\mathbf{U}_0)^T\\mathbf{M}_2(\\mathbf{U} - \\mathbf{U}_0)\n",
      "\\end{align}\n",
      "\n",
      "where\n",
      "\n",
      "\\begin{align} \n",
      "    M_0 & =  - \\sum_{i \\in \\Omega_T} w_i  \\exp \\left( \\sum_P U_0^{(P)} \\log(1-p_i^{(P)}) \\right) \\\\\n",
      "    [\\mathbf{M}_1]_{P} &= \n",
      "     - \\sum_{i \\in \\Omega_T} w_i \\exp \\left( \\sum_P U_0^{(P)} \\log(1-p_i^{(P)}) \\right)\n",
      "       \\log \\left( 1- p_i^{(P)} \\right) \\\\\n",
      "    [\\mathbf{M}_2]_{PP'}  & = \n",
      "         - \\frac{1}{2}\\sum_{i \\in \\Omega_T} w_i \\exp \\left( \\sum_P U_0^{(P)} \\log(1-p_i^{(P)}) \\right)\n",
      "          \\log \\left( 1- p_i^{(P)} \\right)\n",
      "          \\log \\left( 1- p_i^{(P')} \\right)\n",
      "\\end{align}"
     ]
    },
    {
     "cell_type": "markdown",
     "metadata": {},
     "source": [
      "Next we add the constraints.  We'll start with a requirement that the total viewership is less than or equal to the goal.  This is usually in the form of targeted viewership < some cost.  Define the TRP for program $p$ to be \n",
      "\n",
      "$$\n",
      "{\\rm TRP}^{(P)} = 100\\times U^{(P)} \\sum_{i \\in \\Omega_T} p_i^{(p)} w_i\n",
      "$$\n",
      "The constraint is then\n",
      "$$\n",
      "\\sum_P {\\rm TRP}^{(P)} < C\n",
      "$$\n",
      "Normally one would devide by the Average audience, but since we've already normalized the weights to $\\sum_{i \\in \\Omega_T} w_i = 1$, we don't need to do this."
     ]
    },
    {
     "cell_type": "code",
     "collapsed": false,
     "input": [
      "# %% build TRPs\n",
      "trps = 100*w_target.T*p_target/target_universe\n",
      "\n",
      "grps = 100*w.T*p/total_universe\n",
      "\n",
      "def TRP(U) :\n",
      "    return((trps*U)[0,0])\n",
      "\n",
      "def GRP(U) :\n",
      "    return((grps*U)[0,0])"
     ],
     "language": "python",
     "metadata": {},
     "outputs": [],
     "prompt_number": 9
    },
    {
     "cell_type": "code",
     "collapsed": false,
     "input": [
      "# Impose simple constrainst\n",
      "Ulimit = 10\n",
      "Umax = Ulimit*np.matrix(np.ones(shape = [Np,1]))\n",
      "GRP_limit = 10"
     ],
     "language": "python",
     "metadata": {},
     "outputs": [],
     "prompt_number": 22
    },
    {
     "cell_type": "code",
     "collapsed": false,
     "input": [
      "GRP(Umax)"
     ],
     "language": "python",
     "metadata": {},
     "outputs": [
      {
       "metadata": {},
       "output_type": "pyout",
       "prompt_number": 23,
       "text": [
        "305.30547549807619"
       ]
      }
     ],
     "prompt_number": 23
    },
    {
     "cell_type": "code",
     "collapsed": false,
     "input": [
      "TRP(Umax)"
     ],
     "language": "python",
     "metadata": {},
     "outputs": [
      {
       "metadata": {},
       "output_type": "pyout",
       "prompt_number": 24,
       "text": [
        "306.51743210567707"
       ]
      }
     ],
     "prompt_number": 24
    },
    {
     "cell_type": "heading",
     "level": 1,
     "metadata": {},
     "source": [
      "Set up Gurobi Solver"
     ]
    },
    {
     "cell_type": "markdown",
     "metadata": {},
     "source": [
      "The MIQP (mixed integer quadratic programer) is set up to solve the following problem.\n",
      "\n",
      "Maximize:\n",
      "$$\n",
      "f(x) = x^T Q x + c^T x\n",
      "$$\n",
      "subject to:\n",
      "\\begin{align}\n",
      "A x &\\leq {\\rm rhs} \\\\\n",
      "l_b  &\\leq x \\leq u_b\n",
      "\\end{align}\n",
      "When we compare the quadratic expansion above to this form, we see that \n",
      "\n",
      "\\begin{align}\n",
      "Q &= \\mathbf{M}_2 \\\\\n",
      "c &= \\mathbf{M}_1 - 2\\mathbf{U}_0^T \\mathbf{M}_2\n",
      "\\end{align}"
     ]
    },
    {
     "cell_type": "heading",
     "level": 2,
     "metadata": {},
     "source": [
      "Use Gurobi, optimized for TRP"
     ]
    },
    {
     "cell_type": "code",
     "collapsed": false,
     "input": [
      "# translate variables to Gurobi speak\n",
      "cTRP = trps.T             # for impressions\n",
      "A  = np.concatenate((grps,grps),0)\n",
      "\n",
      "sense = [GRB.LESS_EQUAL, GRB.GREATER_EQUAL]\n",
      "rhs = [GRP_limit, GRP_limit-1]\n",
      "lb = [0]*Np\n",
      "ub = [Ulimit]*Np\n",
      "vtype = [GRB.INTEGER]*Np\n",
      "sol = [0]*Np\n",
      "\n",
      "trp_model = ghelp.build_model(cTRP,None, A, rhs, sense, lb, ub, vtype)\n",
      "trp_model.optimize()"
     ],
     "language": "python",
     "metadata": {},
     "outputs": [
      {
       "output_type": "stream",
       "stream": "stdout",
       "text": [
        "Optimize a model with 2 rows, 371 columns and 742 nonzeros\n"
       ]
      },
      {
       "output_type": "stream",
       "stream": "stdout",
       "text": [
        "Coefficient statistics:\n"
       ]
      },
      {
       "output_type": "stream",
       "stream": "stdout",
       "text": [
        "  Matrix range    [8e-05, 4e+00]\n"
       ]
      },
      {
       "output_type": "stream",
       "stream": "stdout",
       "text": [
        "  Objective range [1e-05, 4e+00]\n"
       ]
      },
      {
       "output_type": "stream",
       "stream": "stdout",
       "text": [
        "  Bounds range    [1e+01, 1e+01]\n"
       ]
      },
      {
       "output_type": "stream",
       "stream": "stdout",
       "text": [
        "  RHS range       [9e+00, 1e+01]\n"
       ]
      },
      {
       "output_type": "stream",
       "stream": "stdout",
       "text": [
        "Found heuristic solution: objective 11.4474\n"
       ]
      },
      {
       "output_type": "stream",
       "stream": "stdout",
       "text": [
        "Presolve time: 0.00s\n"
       ]
      },
      {
       "output_type": "stream",
       "stream": "stdout",
       "text": [
        "Presolved: 2 rows, 371 columns, 742 nonzeros\n"
       ]
      },
      {
       "output_type": "stream",
       "stream": "stdout",
       "text": [
        "Variable types: 0 continuous, 371 integer (0 binary)\n"
       ]
      },
      {
       "output_type": "stream",
       "stream": "stdout",
       "text": [
        "\n",
        "Root relaxation: objective 1.715101e+01, 1 iterations, 0.00 seconds\n"
       ]
      },
      {
       "output_type": "stream",
       "stream": "stdout",
       "text": [
        "\n"
       ]
      },
      {
       "output_type": "stream",
       "stream": "stdout",
       "text": [
        "    Nodes    |    Current Node    |     Objective Bounds      |     Work\n"
       ]
      },
      {
       "output_type": "stream",
       "stream": "stdout",
       "text": [
        " Expl Unexpl |  Obj  Depth IntInf | Incumbent    BestBd   Gap | It/Node Time\n"
       ]
      },
      {
       "output_type": "stream",
       "stream": "stdout",
       "text": [
        "\n"
       ]
      },
      {
       "output_type": "stream",
       "stream": "stdout",
       "text": [
        "     0     0   17.15101    0    1   11.44736   17.15101  49.8%     -    0s\n"
       ]
      },
      {
       "output_type": "stream",
       "stream": "stdout",
       "text": [
        "H    0     0                      17.1400255   17.15101  0.06%     -    0s\n"
       ]
      },
      {
       "output_type": "stream",
       "stream": "stdout",
       "text": [
        "H    0     0                      17.1493122   17.15101  0.01%     -    0s\n"
       ]
      },
      {
       "output_type": "stream",
       "stream": "stdout",
       "text": [
        "\n",
        "Explored 0 nodes (1 simplex iterations) in 0.06 seconds\n"
       ]
      },
      {
       "output_type": "stream",
       "stream": "stdout",
       "text": [
        "Thread count was 4 (of 8 available processors)\n"
       ]
      },
      {
       "output_type": "stream",
       "stream": "stdout",
       "text": [
        "\n"
       ]
      },
      {
       "output_type": "stream",
       "stream": "stdout",
       "text": [
        "Optimal solution found (tolerance 1.00e-04)\n"
       ]
      },
      {
       "output_type": "stream",
       "stream": "stdout",
       "text": [
        "Best objective 1.714931215965e+01, best bound 1.715101343691e+01, gap 0.0099%\n"
       ]
      }
     ],
     "prompt_number": 12
    },
    {
     "cell_type": "code",
     "collapsed": false,
     "input": [
      "# convert answer to np.matrix\n",
      "U_trp = ghelp.extract_solution(trp_model)\n",
      "\n",
      "print('full reach:   R(U_trp)   = %4.3f' %R(U_trp))\n",
      "print('TRPs:         TRP(U_trp) = %4.3f' %TRP(U_trp))\n",
      "print('GRPs:         GRP(U_lin) = %4.3f' %GRP(U_trp))"
     ],
     "language": "python",
     "metadata": {},
     "outputs": [
      {
       "output_type": "stream",
       "stream": "stdout",
       "text": [
        "full reach:   R(U_trp)   = 0.096\n",
        "TRPs:         TRP(U_trp) = 17.149\n",
        "GRPs:         GRP(U_lin) = 10.000\n"
       ]
      }
     ],
     "prompt_number": 13
    },
    {
     "cell_type": "heading",
     "level": 2,
     "metadata": {},
     "source": [
      "Use Gurobi, Optimize $L(U)$"
     ]
    },
    {
     "cell_type": "code",
     "collapsed": false,
     "input": [
      "# build matrices around specific point U\n",
      "def build_expansion_matrices(U_0, build_quadratic_term = True):\n",
      "\n",
      "    # replace w with a version mupltipled by the exponential\n",
      "    w_new = np.multiply(w_target,np.exp(log_p*U_0))    \n",
      "\n",
      "    # Build expansion terms\n",
      "    # constant terms\n",
      "    M_0 = -1*np.sum(w_new)\n",
      "\n",
      "    # linear term\n",
      "    M_1 = -1*(w_new.T*log_p).T\n",
      "\n",
      "    if build_quadratic_term :\n",
      "    # quadratic term\n",
      "        w_diag_matrix_new = np.matrix(np.diag(np.array(w_new).reshape([Ni_target,])))\n",
      "        M_2 = -0.5*(log_p.T*w_diag_matrix_new*log_p)\n",
      "\n",
      "        # make sure that M_2 is symmetric\n",
      "        M_2 = (M_2 + M_2.T)/2\n",
      "    else :\n",
      "        M_2 = None\n",
      "    \n",
      "    return(M_0, M_1, M_2)"
     ],
     "language": "python",
     "metadata": {},
     "outputs": [],
     "prompt_number": 17
    },
    {
     "cell_type": "code",
     "collapsed": false,
     "input": [
      "# Build linear and quadratic expansions around the origin\n",
      "U0 = np.matrix(np.zeros(shape=[Np,1]))\n",
      "M0_0,M0_1,M0_2 = build_expansion_matrices(U0) \n",
      "\n",
      "# Linear Term only\n",
      "def L_func(U) :\n",
      "    L_temp = (M0_0+M0_1.T*(U-U0))[0,0]/np.float(num_target)\n",
      "    return(1+L_temp)\n",
      "\n",
      "# include the quadratic term\n",
      "def Q_func(U) :\n",
      "    Q_temp = (M0_0+M0_1.T*(U-U0) + (U-U0).T*M0_2*(U-U0))[0,0]/np.float(num_target)\n",
      "    return(1+Q_temp)"
     ],
     "language": "python",
     "metadata": {},
     "outputs": [],
     "prompt_number": 18
    },
    {
     "cell_type": "code",
     "collapsed": false,
     "input": [
      "cL = M0_1             # for linear optimization\n",
      "\n",
      "linear_model = ghelp.build_model(cL,None, A, rhs, sense, lb, ub, vtype)\n",
      "linear_model.optimize()"
     ],
     "language": "python",
     "metadata": {},
     "outputs": [
      {
       "output_type": "stream",
       "stream": "stdout",
       "text": [
        "Optimize a model with 2 rows, 371 columns and 742 nonzeros\n"
       ]
      },
      {
       "output_type": "stream",
       "stream": "stdout",
       "text": [
        "Coefficient statistics:\n"
       ]
      },
      {
       "output_type": "stream",
       "stream": "stdout",
       "text": [
        "  Matrix range    [8e-05, 4e+00]\n"
       ]
      },
      {
       "output_type": "stream",
       "stream": "stdout",
       "text": [
        "  Objective range [2e+00, 7e+05]\n"
       ]
      },
      {
       "output_type": "stream",
       "stream": "stdout",
       "text": [
        "  Bounds range    [1e+01, 1e+01]\n"
       ]
      },
      {
       "output_type": "stream",
       "stream": "stdout",
       "text": [
        "  RHS range       [9e+00, 1e+01]\n"
       ]
      },
      {
       "output_type": "stream",
       "stream": "stdout",
       "text": [
        "Found heuristic solution: objective 1.85181e+06\n"
       ]
      },
      {
       "output_type": "stream",
       "stream": "stdout",
       "text": [
        "Presolve time: 0.00s\n"
       ]
      },
      {
       "output_type": "stream",
       "stream": "stdout",
       "text": [
        "Presolved: 2 rows, 371 columns, 742 nonzeros\n"
       ]
      },
      {
       "output_type": "stream",
       "stream": "stdout",
       "text": [
        "Variable types: 0 continuous, 371 integer (0 binary)\n"
       ]
      },
      {
       "output_type": "stream",
       "stream": "stdout",
       "text": [
        "\n",
        "Root relaxation: objective 2.650960e+06, 1 iterations, 0.00 seconds\n"
       ]
      },
      {
       "output_type": "stream",
       "stream": "stdout",
       "text": [
        "\n"
       ]
      },
      {
       "output_type": "stream",
       "stream": "stdout",
       "text": [
        "    Nodes    |    Current Node    |     Objective Bounds      |     Work\n"
       ]
      },
      {
       "output_type": "stream",
       "stream": "stdout",
       "text": [
        " Expl Unexpl |  Obj  Depth IntInf | Incumbent    BestBd   Gap | It/Node Time\n"
       ]
      },
      {
       "output_type": "stream",
       "stream": "stdout",
       "text": [
        "\n"
       ]
      },
      {
       "output_type": "stream",
       "stream": "stdout",
       "text": [
        "     0     0 2650959.88    0    1 1851806.66 2650959.88  43.2%     -    0s\n"
       ]
      },
      {
       "output_type": "stream",
       "stream": "stdout",
       "text": [
        "H    0     0                    2650135.4524 2650959.88  0.03%     -    0s\n"
       ]
      },
      {
       "output_type": "stream",
       "stream": "stdout",
       "text": [
        "H    0     0                    2650627.3769 2650959.88  0.01%     -    0s\n"
       ]
      },
      {
       "output_type": "stream",
       "stream": "stdout",
       "text": [
        "     0     0 2650878.70    0    1 2650627.38 2650878.70  0.01%     -    0s\n"
       ]
      },
      {
       "output_type": "stream",
       "stream": "stdout",
       "text": [
        "\n"
       ]
      },
      {
       "output_type": "stream",
       "stream": "stdout",
       "text": [
        "Cutting planes:\n"
       ]
      },
      {
       "output_type": "stream",
       "stream": "stdout",
       "text": [
        "  Gomory: 1\n"
       ]
      },
      {
       "output_type": "stream",
       "stream": "stdout",
       "text": [
        "\n",
        "Explored 0 nodes (2 simplex iterations) in 0.02 seconds\n"
       ]
      },
      {
       "output_type": "stream",
       "stream": "stdout",
       "text": [
        "Thread count was 4 (of 8 available processors)\n"
       ]
      },
      {
       "output_type": "stream",
       "stream": "stdout",
       "text": [
        "\n"
       ]
      },
      {
       "output_type": "stream",
       "stream": "stdout",
       "text": [
        "Optimal solution found (tolerance 1.00e-04)\n"
       ]
      },
      {
       "output_type": "stream",
       "stream": "stdout",
       "text": [
        "Best objective 2.650627376910e+06, best bound 2.650878697321e+06, gap 0.0095%\n"
       ]
      }
     ],
     "prompt_number": 19
    },
    {
     "cell_type": "code",
     "collapsed": false,
     "input": [
      "# convert answer to np.matrix\n",
      "U_lin = ghelp.extract_solution(linear_model)\n",
      "\n",
      "print('full reach:   R(U_lin)   = %4.3f' %R(U_lin))\n",
      "print('TRPs:         TRP(U_lin) = %4.3f' %TRP(U_lin))\n",
      "print('GRPs:         GRP(U_lin) = %4.3f' %GRP(U_lin))"
     ],
     "language": "python",
     "metadata": {},
     "outputs": [
      {
       "output_type": "stream",
       "stream": "stdout",
       "text": [
        "full reach:   R(U_lin)   = 0.095\n",
        "TRPs:         TRP(U_lin) = 17.148\n",
        "GRPs:         GRP(U_lin) = 10.000\n"
       ]
      }
     ],
     "prompt_number": 20
    },
    {
     "cell_type": "heading",
     "level": 2,
     "metadata": {},
     "source": [
      "Gurobi, Quadratic expansion"
     ]
    },
    {
     "cell_type": "code",
     "collapsed": false,
     "input": [
      "cQ = M0_1-2*U0.T*M0_2  # for quadratic optimization\n",
      "Q  = M0_2\n",
      "quad_model = ghelp.build_model(cQ,Q, A, rhs, sense, lb, ub, vtype)\n",
      "quad_model.optimize(ghelp.mycallback)"
     ],
     "language": "python",
     "metadata": {},
     "outputs": [
      {
       "output_type": "stream",
       "stream": "stdout",
       "text": [
        "Optimize a model with 2 rows, 371 columns and 742 nonzeros\n"
       ]
      },
      {
       "output_type": "stream",
       "stream": "stdout",
       "text": [
        "Model has 31763 quadratic objective terms\n"
       ]
      },
      {
       "output_type": "stream",
       "stream": "stdout",
       "text": [
        "Coefficient statistics:\n"
       ]
      },
      {
       "output_type": "stream",
       "stream": "stdout",
       "text": [
        "  Matrix range    [8e-05, 4e+00]\n"
       ]
      },
      {
       "output_type": "stream",
       "stream": "stdout",
       "text": [
        "  Objective range [2e+00, 7e+05]\n"
       ]
      },
      {
       "output_type": "stream",
       "stream": "stdout",
       "text": [
        "  Bounds range    [1e+01, 1e+01]\n"
       ]
      },
      {
       "output_type": "stream",
       "stream": "stdout",
       "text": [
        "  RHS range       [9e+00, 1e+01]\n"
       ]
      },
      {
       "output_type": "stream",
       "stream": "stdout",
       "text": [
        "Found heuristic solution: objective 1.13084e+06\n"
       ]
      },
      {
       "output_type": "stream",
       "stream": "stdout",
       "text": [
        "Presolve time: 0.01s\n"
       ]
      },
      {
       "output_type": "stream",
       "stream": "stdout",
       "text": [
        "Presolved: 2 rows, 371 columns, 742 nonzeros\n"
       ]
      },
      {
       "output_type": "stream",
       "stream": "stdout",
       "text": [
        "Presolved model has 31763 quadratic objective terms\n"
       ]
      },
      {
       "output_type": "stream",
       "stream": "stdout",
       "text": [
        "Variable types: 0 continuous, 371 integer (0 binary)\n"
       ]
      },
      {
       "output_type": "stream",
       "stream": "stdout",
       "text": [
        "\n",
        "Root relaxation: objective 1.597511e+06, 85 iterations, 0.01 seconds\n"
       ]
      },
      {
       "output_type": "stream",
       "stream": "stdout",
       "text": [
        "\n"
       ]
      },
      {
       "output_type": "stream",
       "stream": "stdout",
       "text": [
        "    Nodes    |    Current Node    |     Objective Bounds      |     Work\n"
       ]
      },
      {
       "output_type": "stream",
       "stream": "stdout",
       "text": [
        " Expl Unexpl |  Obj  Depth IntInf | Incumbent    BestBd   Gap | It/Node Time\n"
       ]
      },
      {
       "output_type": "stream",
       "stream": "stdout",
       "text": [
        "\n"
       ]
      },
      {
       "output_type": "stream",
       "stream": "stdout",
       "text": [
        "     0     0 1597510.95    0   67 1130842.45 1597510.95  41.3%     -    0s\n"
       ]
      },
      {
       "output_type": "stream",
       "stream": "stdout",
       "text": [
        "H    0     0                    1491839.1172 1597510.95  7.08%     -    0s\n"
       ]
      },
      {
       "output_type": "stream",
       "stream": "stdout",
       "text": [
        "H    0     0                    1566227.0972 1597510.95  2.00%     -    0s\n"
       ]
      },
      {
       "output_type": "stream",
       "stream": "stdout",
       "text": [
        "H    0     0                    1581819.5624 1597510.95  0.99%     -    0s\n"
       ]
      },
      {
       "output_type": "stream",
       "stream": "stdout",
       "text": [
        "     0     0 1595781.23    0   67 1581819.56 1595781.23  0.88%     -    0s\n"
       ]
      },
      {
       "output_type": "stream",
       "stream": "stdout",
       "text": [
        "H    0     0                    1582710.6715 1595781.23  0.83%     -    0s\n"
       ]
      },
      {
       "output_type": "stream",
       "stream": "stdout",
       "text": [
        "H    0     2                    1582821.8083 1595781.23  0.82%     -    0s\n"
       ]
      },
      {
       "output_type": "stream",
       "stream": "stdout",
       "text": [
        "     0     2 1595781.23    0   67 1582821.81 1595781.23  0.82%     -    0s\n"
       ]
      },
      {
       "output_type": "stream",
       "stream": "stdout",
       "text": [
        "H    4     3                    1583237.8280 1590332.46  0.45%   3.8    0s\n"
       ]
      },
      {
       "output_type": "stream",
       "stream": "stdout",
       "text": [
        "H    8     7                    1583708.6982 1589548.10  0.37%   4.0    0s\n"
       ]
      },
      {
       "output_type": "stream",
       "stream": "stdout",
       "text": [
        "H   24     9                    1583882.1015 1589548.10  0.36%   2.9    0s\n"
       ]
      },
      {
       "output_type": "stream",
       "stream": "stdout",
       "text": [
        "H   27     9                    1583973.0670 1589548.10  0.35%   2.9    0s\n"
       ]
      },
      {
       "output_type": "stream",
       "stream": "stdout",
       "text": [
        "H   27     9                    1585761.3212 1589548.10  0.24%   2.9    0s\n"
       ]
      },
      {
       "output_type": "stream",
       "stream": "stdout",
       "text": [
        "H  151   125                    1585791.0245 1588515.21  0.17%   2.5    0s\n"
       ]
      },
      {
       "output_type": "stream",
       "stream": "stdout",
       "text": [
        "H  212   119                    1586030.2002 1588322.09  0.14%   2.6    0s\n"
       ]
      },
      {
       "output_type": "stream",
       "stream": "stdout",
       "text": [
        "H  397   240                    1586033.2934 1588322.09  0.14%   2.6    0s\n"
       ]
      },
      {
       "output_type": "stream",
       "stream": "stdout",
       "text": [
        "H  699   390                    1586036.6668 1587867.79  0.12%   2.6    0s\n"
       ]
      },
      {
       "output_type": "stream",
       "stream": "stdout",
       "text": [
        "H  725   351                    1586079.9894 1587867.79  0.11%   2.6    0s\n"
       ]
      },
      {
       "output_type": "stream",
       "stream": "stdout",
       "text": [
        "H 1020   485                    1586107.6998 1587632.96  0.10%   2.6    0s\n"
       ]
      },
      {
       "output_type": "stream",
       "stream": "stdout",
       "text": [
        "H 1150   533                    1586159.8419 1587632.96  0.09%   2.7    1s\n"
       ]
      },
      {
       "output_type": "stream",
       "stream": "stdout",
       "text": [
        "H 1224   530                    1586171.9255 1587632.96  0.09%   2.7    1s\n"
       ]
      },
      {
       "output_type": "stream",
       "stream": "stdout",
       "text": [
        "H 1240   512                    1586177.9292 1587632.96  0.09%   2.7    1s\n"
       ]
      },
      {
       "output_type": "stream",
       "stream": "stdout",
       "text": [
        "H 1256   492                    1586189.7078 1587632.96  0.09%   2.7    1s\n"
       ]
      },
      {
       "output_type": "stream",
       "stream": "stdout",
       "text": [
        "H 1318   491                    1586214.6779 1587632.96  0.09%   2.7    1s\n"
       ]
      },
      {
       "output_type": "stream",
       "stream": "stdout",
       "text": [
        "H 1409   471                    1586233.2925 1587632.96  0.09%   2.7    1s\n"
       ]
      },
      {
       "output_type": "stream",
       "stream": "stdout",
       "text": [
        "H 1905   489                    1586239.9982 1587351.61  0.07%   2.7    1s\n"
       ]
      },
      {
       "output_type": "stream",
       "stream": "stdout",
       "text": [
        "H 2198   458                    1586243.8130 1587131.21  0.06%   2.7    1s\n"
       ]
      },
      {
       "output_type": "stream",
       "stream": "stdout",
       "text": [
        "H 2200   455                    1586249.4395 1587127.51  0.06%   2.7    1s\n"
       ]
      },
      {
       "output_type": "stream",
       "stream": "stdout",
       "text": [
        "H 6563  1316                    1586255.6228 1586526.52  0.02%   2.6    3s\n"
       ]
      },
      {
       "output_type": "stream",
       "stream": "stdout",
       "text": [
        "  9677  1760 1586282.70   46   39 1586255.62 1586423.04  0.01%   2.6    5s\n"
       ]
      },
      {
       "output_type": "stream",
       "stream": "stdout",
       "text": [
        "\n",
        "Explored 10038 nodes (26297 simplex iterations) in 5.10 seconds\n"
       ]
      },
      {
       "output_type": "stream",
       "stream": "stdout",
       "text": [
        "Thread count was 4 (of 8 available processors)\n"
       ]
      },
      {
       "output_type": "stream",
       "stream": "stdout",
       "text": [
        "\n"
       ]
      },
      {
       "output_type": "stream",
       "stream": "stdout",
       "text": [
        "Optimal solution found (tolerance 1.00e-04)\n"
       ]
      },
      {
       "output_type": "stream",
       "stream": "stdout",
       "text": [
        "Best objective 1.586255622754e+06, best bound 1.586413112852e+06, gap 0.0099%\n"
       ]
      }
     ],
     "prompt_number": 22
    },
    {
     "cell_type": "code",
     "collapsed": false,
     "input": [
      "# convert answer to np.matrix\n",
      "U_quad = ghelp.extract_solution(quad_model)\n",
      "\n",
      "print('TRPs:        R(U_trp)  = %9.8f'   %R(U_trp))\n",
      "print('linear:      R(U_lin)  = %9.8f'   %R(U_lin))\n",
      "print('quadratic:   R(U_quad) = %9.8f\\n' %R(U_quad))\n",
      "\n",
      "print('TRPs:     TRP(U_trp)   = %9.8f'   %TRP(U_trp))\n",
      "print('TRPs:     TRP(U_lin)   = %9.8f'   %TRP(U_lin))\n",
      "print('TRPs:     TRP(U_quad)  = %9.8f\\n'   %TRP(U_quad))\n",
      "\n",
      "print('GRPs:     GRP(U_trp)   = %9.8f'   %GRP(U_trp))\n",
      "print('GRPs:     GRP(U_lin)   = %9.8f'   %GRP(U_lin))\n",
      "print('GRPs:     GRP(U_quad)  = %9.8f'   %GRP(U_quad))"
     ],
     "language": "python",
     "metadata": {},
     "outputs": [
      {
       "output_type": "stream",
       "stream": "stdout",
       "text": [
        "TRPs:        R(U_trp)  = 0.09636640\n",
        "linear:      R(U_lin)  = 0.09532359\n",
        "quadratic:   R(U_quad) = 0.11385848\n",
        "\n",
        "TRPs:     TRP(U_trp)   = 17.14931216\n",
        "TRPs:     TRP(U_lin)   = 17.14823037\n",
        "TRPs:     TRP(U_quad)  = 13.09065978\n",
        "\n",
        "GRPs:     GRP(U_trp)   = 9.99977375\n",
        "GRPs:     GRP(U_lin)   = 9.99981613\n",
        "GRPs:     GRP(U_quad)  = 9.99981869\n"
       ]
      }
     ],
     "prompt_number": 30
    },
    {
     "cell_type": "heading",
     "level": 1,
     "metadata": {},
     "source": [
      "Set up Local Solver (Linear Example optimizing TRPs)"
     ]
    },
    {
     "cell_type": "code",
     "collapsed": false,
     "input": [
      "type(grps.A)"
     ],
     "language": "python",
     "metadata": {},
     "outputs": [
      {
       "metadata": {},
       "output_type": "pyout",
       "prompt_number": 25,
       "text": [
        "numpy.ndarray"
       ]
      }
     ],
     "prompt_number": 25
    },
    {
     "cell_type": "code",
     "collapsed": false,
     "input": [
      "sol = ls.optimize(grps.A,trps.A, 20.0, 1)"
     ],
     "language": "python",
     "metadata": {},
     "outputs": [
      {
       "ename": "TypeError",
       "evalue": "No registered converter was able to produce a C++ rvalue of type double from this Python object of type numpy.ndarray",
       "output_type": "pyerr",
       "traceback": [
        "\u001b[0;31m---------------------------------------------------------------------------\u001b[0m\n\u001b[0;31mTypeError\u001b[0m                                 Traceback (most recent call last)",
        "\u001b[0;32m<ipython-input-10-83f16ef87266>\u001b[0m in \u001b[0;36m<module>\u001b[0;34m()\u001b[0m\n\u001b[0;32m----> 1\u001b[0;31m \u001b[0msol\u001b[0m \u001b[0;34m=\u001b[0m \u001b[0mls\u001b[0m\u001b[0;34m.\u001b[0m\u001b[0moptimize\u001b[0m\u001b[0;34m(\u001b[0m\u001b[0mgrps\u001b[0m\u001b[0;34m.\u001b[0m\u001b[0mA\u001b[0m\u001b[0;34m,\u001b[0m\u001b[0mtrps\u001b[0m\u001b[0;34m.\u001b[0m\u001b[0mA\u001b[0m\u001b[0;34m,\u001b[0m \u001b[0;36m20.0\u001b[0m\u001b[0;34m,\u001b[0m \u001b[0;36m1\u001b[0m\u001b[0;34m)\u001b[0m\u001b[0;34m\u001b[0m\u001b[0m\n\u001b[0m",
        "\u001b[0;31mTypeError\u001b[0m: No registered converter was able to produce a C++ rvalue of type double from this Python object of type numpy.ndarray"
       ]
      }
     ],
     "prompt_number": 10
    },
    {
     "cell_type": "code",
     "collapsed": false,
     "input": [
      "sol"
     ],
     "language": "python",
     "metadata": {},
     "outputs": []
    },
    {
     "cell_type": "code",
     "collapsed": false,
     "input": [
      "# save the universe numbers\n",
      "universe = np.array([total_universe, target_universe])\n",
      "np.savetxt(\"/Users/rkelley/Development/rovi/my_research/LocalSolver/data/universe.in\", universe, delimiter=\" \",fmt='%15.14f',)"
     ],
     "language": "python",
     "metadata": {},
     "outputs": [],
     "prompt_number": 31
    },
    {
     "cell_type": "heading",
     "level": 1,
     "metadata": {},
     "source": [
      "Set up Local Solver (nonLinear Example optimizing R1+)"
     ]
    },
    {
     "cell_type": "code",
     "collapsed": false,
     "input": [
      "np.savetxt(\"/Users/rkelley/Development/rovi/my_research/LocalSolver/data/p_total.in\", p.flatten(), delimiter=\" \",fmt='%15.14f',)\n",
      "np.savetxt(\"/Users/rkelley/Development/rovi/my_research/LocalSolver/data/p_target.in\", p_target.flatten(), delimiter=\" \",fmt='%15.14f',)"
     ],
     "language": "python",
     "metadata": {},
     "outputs": [],
     "prompt_number": 45
    },
    {
     "cell_type": "code",
     "collapsed": false,
     "input": [
      "np.savetxt(\"/Users/rkelley/Development/rovi/my_research/LocalSolver/data/w_total.in\", w.flatten(), delimiter=\" \",fmt='%15.14f',)\n",
      "np.savetxt(\"/Users/rkelley/Development/rovi/my_research/LocalSolver/data/w_target.in\", w_target.flatten(), delimiter=\" \",fmt='%15.14f',)"
     ],
     "language": "python",
     "metadata": {},
     "outputs": [],
     "prompt_number": 46
    },
    {
     "cell_type": "code",
     "collapsed": false,
     "input": [
      "A = np.array([])"
     ],
     "language": "python",
     "metadata": {},
     "outputs": []
    },
    {
     "cell_type": "code",
     "collapsed": false,
     "input": [
      "# output TRP, Linear, and Quadratic solutions for Local Solver\n",
      "np.savetxt(\"/Users/rkelley/Development/rovi/my_research/LocalSolver/data/u_trp.in\",  U_trp,  delimiter=\",\",fmt='%i')\n",
      "np.savetxt(\"/Users/rkelley/Development/rovi/my_research/LocalSolver/data/u_lin.in\",  U_lin,  delimiter=\",\",fmt='%i')\n",
      "np.savetxt(\"/Users/rkelley/Development/rovi/my_research/LocalSolver/data/u_quad.in\", U_quad, delimiter=\",\",fmt='%i')"
     ],
     "language": "python",
     "metadata": {},
     "outputs": [],
     "prompt_number": 29
    },
    {
     "cell_type": "heading",
     "level": 2,
     "metadata": {},
     "source": [
      "Cut and Past Solution from Local Solver:"
     ]
    },
    {
     "cell_type": "code",
     "collapsed": false,
     "input": [
      "U_LS_quad = np.loadtxt(\"/Users/rkelley/Development/rovi/my_research/LocalSolver/output/sol_quad.txt\")\n",
      "U_LS_quad = U_LS_quad.reshape([Np,1])"
     ],
     "language": "python",
     "metadata": {},
     "outputs": [],
     "prompt_number": 56
    },
    {
     "cell_type": "code",
     "collapsed": false,
     "input": [
      "R(U_LS_quad)"
     ],
     "language": "python",
     "metadata": {},
     "outputs": [
      {
       "metadata": {},
       "output_type": "pyout",
       "prompt_number": 57,
       "text": [
        "0.1138793318124991"
       ]
      }
     ],
     "prompt_number": 57
    },
    {
     "cell_type": "code",
     "collapsed": false,
     "input": [
      "U_LS_trp = np.loadtxt(\"/Users/rkelley/Development/rovi/my_research/LocalSolver/output/sol_trp.txt\")\n",
      "U_LS_trp = U_LS_trp.reshape([Np,1])\n",
      "R(U_LS_trp)"
     ],
     "language": "python",
     "metadata": {},
     "outputs": [
      {
       "metadata": {},
       "output_type": "pyout",
       "prompt_number": 58,
       "text": [
        "0.10540783939930898"
       ]
      }
     ],
     "prompt_number": 58
    },
    {
     "cell_type": "code",
     "collapsed": false,
     "input": [
      "U_LS_linear = np.loadtxt(\"/Users/rkelley/Development/rovi/my_research/LocalSolver/output/sol_lin.txt\")\n",
      "U_LS_linear = U_LS_linear.reshape([Np,1])\n",
      "R(U_LS_linear)"
     ],
     "language": "python",
     "metadata": {},
     "outputs": [
      {
       "metadata": {},
       "output_type": "pyout",
       "prompt_number": 59,
       "text": [
        "0.10505117049801649"
       ]
      }
     ],
     "prompt_number": 59
    },
    {
     "cell_type": "code",
     "collapsed": false,
     "input": [
      "print('quadratic:      R(U_quad)   = %9.8f'     %R(U_quad))\n",
      "print('LS quadratic:   R(U_LS_quad)= %9.8f\\n' %R(U_LS_quad))\n",
      "\n",
      "print('Linear:      R(U_lin)   = %9.8f'     %R(U_lin))\n",
      "print('LS Linear:   R(U_LS_lin)= %9.8f\\n' %R(U_LS_linear))\n",
      "\n",
      "print('TRP:      R(U_trp)   = %9.8f'     %R(U_trp))\n",
      "print('LS TRP:   R(U_LS_trp)= %9.8f\\n' %R(U_LS_trp))"
     ],
     "language": "python",
     "metadata": {},
     "outputs": [
      {
       "output_type": "stream",
       "stream": "stdout",
       "text": [
        "quadratic:      R(U_quad)   = 0.11385848\n",
        "LS quadratic:   R(U_LS_quad)= 0.11387933\n",
        "\n",
        "Linear:      R(U_lin)   = 0.09532359\n",
        "LS Linear:   R(U_LS_lin)= 0.10505117\n",
        "\n",
        "TRP:      R(U_trp)   = 0.09636640\n",
        "LS TRP:   R(U_LS_trp)= 0.10540784\n",
        "\n"
       ]
      }
     ],
     "prompt_number": 68
    },
    {
     "cell_type": "code",
     "collapsed": false,
     "input": [],
     "language": "python",
     "metadata": {},
     "outputs": []
    }
   ],
   "metadata": {}
  }
 ]
}