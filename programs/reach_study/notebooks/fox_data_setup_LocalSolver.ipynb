{
 "metadata": {
  "name": "",
  "signature": "sha256:bf75066094af88540882eb98a79063dc702c086e5ca029e0a664263ee706c34a"
 },
 "nbformat": 3,
 "nbformat_minor": 0,
 "worksheets": [
  {
   "cells": [
    {
     "cell_type": "code",
     "collapsed": false,
     "input": [
      "%matplotlib inline\n",
      "import matplotlib.pylab as plt\n",
      "\n",
      "# expose Local Solver\n",
      "import localsolver_reach as ls\n",
      "\n",
      "plt.rcParams['figure.figsize'] = (10.0, 8.0)\n",
      "\n",
      "import numpy as np\n",
      "import pandas as pd\n",
      "import os\n",
      "import scipy.stats as st\n",
      "\n",
      "\n",
      "# Autoreload modules after editing\n",
      "%load_ext autoreload\n",
      "%autoreload 2"
     ],
     "language": "python",
     "metadata": {},
     "outputs": [],
     "prompt_number": 1
    },
    {
     "cell_type": "code",
     "collapsed": false,
     "input": [
      "os.chdir('/Users/rkelley/Development/rovi/ds_analysis/programs/reach_study')"
     ],
     "language": "python",
     "metadata": {},
     "outputs": [],
     "prompt_number": 2
    },
    {
     "cell_type": "heading",
     "level": 1,
     "metadata": {},
     "source": [
      "Test Wrapper"
     ]
    },
    {
     "cell_type": "code",
     "collapsed": false,
     "input": [
      "M = np.array([1.1,2.2,3.3,4.4,5.5,6.6])\n",
      "M = M.reshape([2,3])\n",
      "type(M[0,0])"
     ],
     "language": "python",
     "metadata": {},
     "outputs": [
      {
       "metadata": {},
       "output_type": "pyout",
       "prompt_number": 3,
       "text": [
        "numpy.float64"
       ]
      }
     ],
     "prompt_number": 3
    },
    {
     "cell_type": "code",
     "collapsed": false,
     "input": [
      "ls.test(M)"
     ],
     "language": "python",
     "metadata": {},
     "outputs": [],
     "prompt_number": 4
    },
    {
     "cell_type": "heading",
     "level": 1,
     "metadata": {},
     "source": [
      "Check Local Solver"
     ]
    },
    {
     "cell_type": "code",
     "collapsed": false,
     "input": [
      "trps = np.load(os.getcwd() + '/data/trps.npy')\n",
      "grps = np.load(os.getcwd() + '/data/grps.npy')\n",
      "\n",
      "# Np = trps.shape[1]\n",
      "# trps = np.matrix(trps.reshape([1,Np]))\n",
      "# grps = np.matrix(grps.reshape([1,Np]))"
     ],
     "language": "python",
     "metadata": {},
     "outputs": [],
     "prompt_number": 5
    },
    {
     "cell_type": "code",
     "collapsed": false,
     "input": [
      "grp_limit = 20.0\n",
      "time_limit = 10\n",
      "optimization_option = 0 # 0=TRP, 1=quadratric expansion, 2=R1+\n",
      "annealing_level = 9\n",
      "\n",
      "sol = ls.optimize(grps,trps, \n",
      "                  grp_limit, \n",
      "                  time_limit, \n",
      "                  optimization_option, \n",
      "                  annealing_level)"
     ],
     "language": "python",
     "metadata": {},
     "outputs": [],
     "prompt_number": 7
    },
    {
     "cell_type": "code",
     "collapsed": false,
     "input": [
      "sol = np.matrix(sol.reshape([371,1]))\n",
      "sol[sol>0]"
     ],
     "language": "python",
     "metadata": {},
     "outputs": [
      {
       "metadata": {},
       "output_type": "pyout",
       "prompt_number": 8,
       "text": [
        "matrix([[ 1, 10,  1,  1, 10,  1, 10,  2, 10, 10,  4,  6,  3,  2,  4,  6,  4,\n",
        "          9, 10,  1,  1,  1,  1,  3,  3,  2,  9, 10,  9, 10, 10, 10, 10, 10,\n",
        "         10, 10,  7, 10,  6, 10, 10, 10,  9, 10,  9, 10,  1,  2, 10,  9, 10,\n",
        "          5,  1,  8, 10,  1, 10, 10, 10, 10, 10, 10,  8,  1,  4,  8,  3,  2,\n",
        "          1, 10,  7,  5, 10, 10,  3, 10,  1,  2,  8, 10, 10,  2,  1, 10, 10,\n",
        "          1,  1,  1,  5,  2, 10,  2, 10,  1,  3,  1, 10, 10, 10, 10,  5, 10,\n",
        "         10, 10,  1, 10,  7, 10,  1, 10,  4, 10,  3,  5, 10, 10, 10,  2, 10,\n",
        "          9, 10, 10,  1, 10, 10, 10,  3, 10,  1,  7,  9,  1,  2,  1, 10,  9,\n",
        "          9, 10, 10, 10,  2, 10, 10, 10, 10, 10,  7,  2,  1,  5,  1, 10,  1,\n",
        "          9,  3]], dtype=int32)"
       ]
      }
     ],
     "prompt_number": 8
    },
    {
     "cell_type": "heading",
     "level": 1,
     "metadata": {},
     "source": [
      "Build Matrices"
     ]
    },
    {
     "cell_type": "code",
     "collapsed": false,
     "input": [
      "os.chdir('/usr/local/lib/python2.7/site-packages/gurobipy')\n",
      "import gurobi_helper_functions as ghelp\n",
      "os.chdir('/Users/rkelley/Development/rovi/ds_analysis/programs/reach_study')"
     ],
     "language": "python",
     "metadata": {},
     "outputs": [],
     "prompt_number": 20
    },
    {
     "cell_type": "code",
     "collapsed": false,
     "input": [
      "# load data\n",
      "prob_df, weight_df = ghelp.load_probability_matrices()\n",
      "\n",
      "# number of unique individuals\n",
      "Ni = prob_df.shape[0]\n",
      "\n",
      "# number of unique programs\n",
      "Np = prob_df.shape[1]\n",
      "\n",
      "# from the probabilities data frame, extract the values for better speed,\n",
      "# and then reduce the number of programs for computational speed\n",
      "p = prob_df.values\n",
      "\n",
      "# do the same for the weights\n",
      "w_array = weight_df.values"
     ],
     "language": "python",
     "metadata": {},
     "outputs": [
      {
       "output_type": "stream",
       "stream": "stdout",
       "text": [
        "\n",
        "Load Probability and Weight's matrices\n",
        "\n",
        "changed working directory to /Users/rkelley/Development/rovi/gurobi/reach_study\n"
       ]
      }
     ],
     "prompt_number": 21
    },
    {
     "cell_type": "code",
     "collapsed": false,
     "input": [
      "# average the weights over the programs (only non-zero values)\n",
      "w_average = np.zeros(shape = [Ni,])\n",
      "for i in np.arange(Ni) :\n",
      "\n",
      "    # select the programs that have non-zero weight\n",
      "    idx = (w_array[i,:] > 0)\n",
      "\n",
      "    # average the non-zero weight\n",
      "    if np.sum(idx) == 0 :\n",
      "        w_average[i] = 0\n",
      "    else :\n",
      "        w_average[i] = np.mean(w_array[i,idx])\n",
      "\n",
      "# rescale the weights so that they sum to 1\n",
      "total_universe = np.sum(w_average)\n",
      "w_array = w_average\n",
      "\n",
      "w = np.matrix(w_array).T\n",
      "\n",
      "w_diag_matrix = np.matrix(np.diag(w_array))"
     ],
     "language": "python",
     "metadata": {},
     "outputs": [],
     "prompt_number": 22
    },
    {
     "cell_type": "markdown",
     "metadata": {},
     "source": [
      "The reach is computed as follows\n",
      "    \\begin{align}\n",
      "    R_{1+} \n",
      "    &= \\sum_{i \\in \\Omega_T} w_i \n",
      "    \\Bigl[\n",
      "         1 - \\prod_{P} \\left( 1- p_i^{(P)} \\right)^{U^{(P)} }\n",
      "     \\Bigr] \\\\\n",
      "     &=\n",
      "     1 -  \\sum_{i \\in \\Omega_T} w_i \n",
      "     \\exp\\Bigl[\n",
      "         \\sum_P U^{(P)} \\log \\left( 1- p_i^{(P)} \\right)\n",
      "     \\Bigr]\n",
      "    \\end{align}  </li>\n",
      "where $P$ denotes the program (i.e. grid cell, celling title, break, etc) and $\\Omega_T$ denotes all individuals $i$ in the target audience $T$.  The term $w_i$ is individual's weight and $p_i^{(P)}$ is probability that $i$ viewed program $P$. Finally, $U^{(P)}$ is the unit count in program $P$."
     ]
    },
    {
     "cell_type": "code",
     "collapsed": false,
     "input": [
      "# %% Build (target) reach function\n",
      "# maximum number of placements to consider\n",
      "np.random.seed(0)\n",
      "target_indices = np.random.choice(Ni, size = Ni/20, replace=False)\n",
      "Ni_target = target_indices.shape[0]\n",
      "\n",
      "# Compute log\n",
      "p_target = p[target_indices,:]\n",
      "log_p = np.matrix(np.log(1-p_target))\n",
      "log_p = np.matrix(np.log(1-p[target_indices,:]))\n",
      "w_target = w[target_indices,:]\n",
      "\n",
      "target_universe = np.sum(w_target)\n",
      "\n",
      "def R(U, sign = 1.0) :\n",
      "    T0 = - (w_target.T*np.exp(log_p*U))[0,0]/target_universe\n",
      "    return(sign*(1+T0))"
     ],
     "language": "python",
     "metadata": {},
     "outputs": [],
     "prompt_number": 23
    },
    {
     "cell_type": "markdown",
     "metadata": {},
     "source": [
      "I'll also compute the linear and quadratic expansion of the reach near $U^{(P)} = [0,0, \\ldots, 0]$.\n",
      "<ul>\n",
      "    <li>linear Expansion:\n",
      "    \\begin{align}\n",
      "    R_{1+} \n",
      "    &\\approx\n",
      "     1 -  \\sum_{i \\in \\Omega_T} w_i \n",
      "     \\Bigl[1 +\n",
      "         \\sum_P U^{(P)} \\log \\left( 1- p_i^{(P)} \\right)\n",
      "     \\Bigr] \\\\\n",
      "     & =   \\sum_P U^{(P)} M_P\n",
      "    \\end{align} \n",
      "   <li>Quadratic Proxy:\n",
      "    \\begin{align}\n",
      "    R_{1+} \n",
      "    &\\approx \\sum_P U^{(P)} M_P +  \\sum_{P,P'} U^{(P)}U^{(P')} M_{PP'}\n",
      "    \\end{align} \n",
      "    </li>\n",
      "</ul>\n",
      "where we have defined\n",
      "    \\begin{align}\n",
      "         M^{(0)}_P &= [\\mathbf{M}^{(0)}_1]_P = \n",
      "         -\\sum_{i \\in \\Omega_T} w_i \n",
      "          \\log \\left( 1- p_i^{(P)} \\right) \\\\\n",
      "         M^{(0)}_{PP'} &= [\\mathbf{M}^{(0)}_2]_{PP'} =\n",
      "         - \n",
      "         \\sum_{i \\in \\Omega_T} w_i \n",
      "          \\log \\left( 1- p_i^{(P)} \\right)\n",
      "          \\log \\left( 1- p_i^{(P')} \\right)\n",
      "    \\end{align} "
     ]
    },
    {
     "cell_type": "markdown",
     "metadata": {},
     "source": [
      "In Matrix Notation, the linear and quadratic approximations become:\n",
      "<ul>\n",
      "    <li>linear Expansion:\n",
      "    \\begin{align}\n",
      "    L(\\mathbf{U}) =  \\mathbf{M}_{1}^T \\mathbf{U}\n",
      "    \\end{align} \n",
      "   <li>Quadratic Proxy:\n",
      "    \\begin{align}\n",
      "    Q(\\mathbf{U}) =  \\mathbf{M}_{1}^T \\mathbf{U} +  \\mathbf{U}^T\\mathbf{M}_{2}\\mathbf{U}\n",
      "    \\end{align} \n",
      "    </li>\n",
      "</ul>"
     ]
    },
    {
     "cell_type": "markdown",
     "metadata": {},
     "source": [
      "These linear and quadratic expansions were made about $U^{(P)} = [0, \\cdots, 0]$.  If we instead expand around a different point, say $U_0^{(P)}$, then we approximate the $R_{1+}$ as follows:\n",
      "\n",
      "\\begin{align}\n",
      "    R_{1+} \n",
      "    &\\approx 1 \\ - \\sum_{i \\in \\Omega_T} w_i  \\exp \\left( \\sum_P U_0^{(P)} \\log(1-p_i^{(P)}) \\right) \\\\\n",
      "    & \\qquad\n",
      "     - \\sum_P \\left(U^{(P)} - U_0^{(P)} \\right)\n",
      "         \\sum_{i \\in \\Omega_T} w_i \\exp \\left( \\sum_P U_0^{(P)} \\log(1-p_i^{(P)}) \\right)\n",
      "          \\log \\left( 1- p_i^{(P)} \\right) \\\\\n",
      "    &\\qquad     - \\frac{1}{2}\\sum_{P,P'} \\left(U^{(P)} - U_0^{(P)} \\right)\\left(U^{(P')} - U_0^{(P')} \\right)\n",
      "         \\sum_{i \\in \\Omega_T} w_i \\exp \\left( \\sum_P U_0^{(P)} \\log(1-p_i^{(P)}) \\right)\n",
      "          \\log \\left( 1- p_i^{(P)} \\right)\n",
      "          \\log \\left( 1- p_i^{(P')} \\right)\n",
      "\\end{align}\n",
      "\n",
      "Or, in matrix notation\n",
      "\n",
      "\\begin{align}\n",
      "    R_{1+} \n",
      "    &\\approx 1 +M_0 \n",
      "    +\\mathbf{M}_1^T(\\mathbf{U} - \\mathbf{U}_0)\n",
      "    +(\\mathbf{U} - \\mathbf{U}_0)^T\\mathbf{M}_2(\\mathbf{U} - \\mathbf{U}_0)\n",
      "\\end{align}\n",
      "\n",
      "where\n",
      "\n",
      "\\begin{align} \n",
      "    M_0 & =  - \\sum_{i \\in \\Omega_T} w_i  \\exp \\left( \\sum_P U_0^{(P)} \\log(1-p_i^{(P)}) \\right) \\\\\n",
      "    [\\mathbf{M}_1]_{P} &= \n",
      "     - \\sum_{i \\in \\Omega_T} w_i \\exp \\left( \\sum_P U_0^{(P)} \\log(1-p_i^{(P)}) \\right)\n",
      "       \\log \\left( 1- p_i^{(P)} \\right) \\\\\n",
      "    [\\mathbf{M}_2]_{PP'}  & = \n",
      "         - \\frac{1}{2}\\sum_{i \\in \\Omega_T} w_i \\exp \\left( \\sum_P U_0^{(P)} \\log(1-p_i^{(P)}) \\right)\n",
      "          \\log \\left( 1- p_i^{(P)} \\right)\n",
      "          \\log \\left( 1- p_i^{(P')} \\right)\n",
      "\\end{align}"
     ]
    },
    {
     "cell_type": "markdown",
     "metadata": {},
     "source": [
      "Next we add the constraints.  We'll start with a requirement that the total viewership is less than or equal to the goal.  This is usually in the form of targeted viewership < some cost.  Define the TRP for program $p$ to be \n",
      "\n",
      "$$\n",
      "{\\rm TRP}^{(P)} = 100\\times U^{(P)} \\sum_{i \\in \\Omega_T} p_i^{(p)} w_i\n",
      "$$\n",
      "The constraint is then\n",
      "$$\n",
      "\\sum_P {\\rm TRP}^{(P)} < C\n",
      "$$\n",
      "Normally one would devide by the Average audience, but since we've already normalized the weights to $\\sum_{i \\in \\Omega_T} w_i = 1$, we don't need to do this."
     ]
    },
    {
     "cell_type": "code",
     "collapsed": false,
     "input": [
      "# %% build TRPs\n",
      "trps = 100*w_target.T*p_target/target_universe\n",
      "\n",
      "grps = 100*w.T*p/total_universe\n",
      "\n",
      "def TRP(U) :\n",
      "    return((trps*U)[0,0])\n",
      "\n",
      "def GRP(U) :\n",
      "    return((grps*U)[0,0])"
     ],
     "language": "python",
     "metadata": {},
     "outputs": [],
     "prompt_number": 24
    },
    {
     "cell_type": "code",
     "collapsed": false,
     "input": [
      "# Impose simple constrainst\n",
      "Ulimit = 10\n",
      "Umax = Ulimit*np.matrix(np.ones(shape = [Np,1]))\n",
      "GRP_limit = 10"
     ],
     "language": "python",
     "metadata": {},
     "outputs": [],
     "prompt_number": 25
    },
    {
     "cell_type": "code",
     "collapsed": false,
     "input": [
      "GRP(sol)"
     ],
     "language": "python",
     "metadata": {},
     "outputs": [
      {
       "metadata": {},
       "output_type": "pyout",
       "prompt_number": 26,
       "text": [
        "19.999287374932525"
       ]
      }
     ],
     "prompt_number": 26
    },
    {
     "cell_type": "code",
     "collapsed": false,
     "input": [
      "TRP(sol)"
     ],
     "language": "python",
     "metadata": {},
     "outputs": [
      {
       "metadata": {},
       "output_type": "pyout",
       "prompt_number": 27,
       "text": [
        "29.037630051440939"
       ]
      }
     ],
     "prompt_number": 27
    },
    {
     "cell_type": "code",
     "collapsed": false,
     "input": [
      "# save to file \n",
      "#os.getcwd()\n",
      "np.save(os.getcwd() + '/data/trps.npy', trps)\n",
      "np.save(os.getcwd() + '/data/grps.npy', grps)"
     ],
     "language": "python",
     "metadata": {},
     "outputs": [],
     "prompt_number": 32
    },
    {
     "cell_type": "code",
     "collapsed": false,
     "input": [
      "os.getcwd()"
     ],
     "language": "python",
     "metadata": {},
     "outputs": [
      {
       "metadata": {},
       "output_type": "pyout",
       "prompt_number": 20,
       "text": [
        "'/Users/rkelley/Development/rovi/gurobi/reach_study'"
       ]
      }
     ],
     "prompt_number": 20
    },
    {
     "cell_type": "heading",
     "level": 1,
     "metadata": {},
     "source": [
      "Set up Local Solver (Linear Example optimizing TRPs)"
     ]
    },
    {
     "cell_type": "code",
     "collapsed": false,
     "input": [],
     "language": "python",
     "metadata": {},
     "outputs": [
      {
       "ename": "IOError",
       "evalue": "[Errno 2] No such file or directory: '/Users/rkelley/Development/rovi/ds_analysis/programs/reach_study/data/trps'",
       "output_type": "pyerr",
       "traceback": [
        "\u001b[0;31m---------------------------------------------------------------------------\u001b[0m\n\u001b[0;31mIOError\u001b[0m                                   Traceback (most recent call last)",
        "\u001b[0;32m<ipython-input-33-6fa34aec53fe>\u001b[0m in \u001b[0;36m<module>\u001b[0;34m()\u001b[0m\n\u001b[0;32m----> 1\u001b[0;31m \u001b[0mtrps\u001b[0m \u001b[0;34m=\u001b[0m \u001b[0mnp\u001b[0m\u001b[0;34m.\u001b[0m\u001b[0mload\u001b[0m\u001b[0;34m(\u001b[0m\u001b[0mos\u001b[0m\u001b[0;34m.\u001b[0m\u001b[0mgetcwd\u001b[0m\u001b[0;34m(\u001b[0m\u001b[0;34m)\u001b[0m \u001b[0;34m+\u001b[0m \u001b[0;34m'/data/trps'\u001b[0m\u001b[0;34m)\u001b[0m\u001b[0;34m\u001b[0m\u001b[0m\n\u001b[0m\u001b[1;32m      2\u001b[0m \u001b[0mgrps\u001b[0m \u001b[0;34m=\u001b[0m \u001b[0mnp\u001b[0m\u001b[0;34m.\u001b[0m\u001b[0mload\u001b[0m\u001b[0;34m(\u001b[0m\u001b[0mos\u001b[0m\u001b[0;34m.\u001b[0m\u001b[0mgetcwd\u001b[0m\u001b[0;34m(\u001b[0m\u001b[0;34m)\u001b[0m \u001b[0;34m+\u001b[0m \u001b[0;34m'/data/grps'\u001b[0m\u001b[0;34m)\u001b[0m\u001b[0;34m\u001b[0m\u001b[0m\n",
        "\u001b[0;32m/usr/local/lib/python2.7/site-packages/numpy/lib/npyio.pyc\u001b[0m in \u001b[0;36mload\u001b[0;34m(file, mmap_mode)\u001b[0m\n\u001b[1;32m    367\u001b[0m     \u001b[0mown_fid\u001b[0m \u001b[0;34m=\u001b[0m \u001b[0mFalse\u001b[0m\u001b[0;34m\u001b[0m\u001b[0m\n\u001b[1;32m    368\u001b[0m     \u001b[0;32mif\u001b[0m \u001b[0misinstance\u001b[0m\u001b[0;34m(\u001b[0m\u001b[0mfile\u001b[0m\u001b[0;34m,\u001b[0m \u001b[0mbasestring\u001b[0m\u001b[0;34m)\u001b[0m\u001b[0;34m:\u001b[0m\u001b[0;34m\u001b[0m\u001b[0m\n\u001b[0;32m--> 369\u001b[0;31m         \u001b[0mfid\u001b[0m \u001b[0;34m=\u001b[0m \u001b[0mopen\u001b[0m\u001b[0;34m(\u001b[0m\u001b[0mfile\u001b[0m\u001b[0;34m,\u001b[0m \u001b[0;34m\"rb\"\u001b[0m\u001b[0;34m)\u001b[0m\u001b[0;34m\u001b[0m\u001b[0m\n\u001b[0m\u001b[1;32m    370\u001b[0m         \u001b[0mown_fid\u001b[0m \u001b[0;34m=\u001b[0m \u001b[0mTrue\u001b[0m\u001b[0;34m\u001b[0m\u001b[0m\n\u001b[1;32m    371\u001b[0m     \u001b[0;32melif\u001b[0m \u001b[0misinstance\u001b[0m\u001b[0;34m(\u001b[0m\u001b[0mfile\u001b[0m\u001b[0;34m,\u001b[0m \u001b[0mgzip\u001b[0m\u001b[0;34m.\u001b[0m\u001b[0mGzipFile\u001b[0m\u001b[0;34m)\u001b[0m\u001b[0;34m:\u001b[0m\u001b[0;34m\u001b[0m\u001b[0m\n",
        "\u001b[0;31mIOError\u001b[0m: [Errno 2] No such file or directory: '/Users/rkelley/Development/rovi/ds_analysis/programs/reach_study/data/trps'"
       ]
      }
     ],
     "prompt_number": 33
    },
    {
     "cell_type": "code",
     "collapsed": false,
     "input": [],
     "language": "python",
     "metadata": {},
     "outputs": [
      {
       "ename": "TypeError",
       "evalue": "No registered converter was able to produce a C++ rvalue of type double from this Python object of type numpy.ndarray",
       "output_type": "pyerr",
       "traceback": [
        "\u001b[0;31m---------------------------------------------------------------------------\u001b[0m\n\u001b[0;31mTypeError\u001b[0m                                 Traceback (most recent call last)",
        "\u001b[0;32m<ipython-input-17-28b0aeb437d0>\u001b[0m in \u001b[0;36m<module>\u001b[0;34m()\u001b[0m\n\u001b[0;32m----> 1\u001b[0;31m \u001b[0msol\u001b[0m \u001b[0;34m=\u001b[0m \u001b[0mls\u001b[0m\u001b[0;34m.\u001b[0m\u001b[0moptimize\u001b[0m\u001b[0;34m(\u001b[0m\u001b[0mgrps\u001b[0m\u001b[0;34m.\u001b[0m\u001b[0mA\u001b[0m\u001b[0;34m,\u001b[0m\u001b[0mtrps\u001b[0m\u001b[0;34m.\u001b[0m\u001b[0mA\u001b[0m\u001b[0;34m,\u001b[0m \u001b[0;36m20.0\u001b[0m\u001b[0;34m,\u001b[0m \u001b[0;36m10\u001b[0m\u001b[0;34m)\u001b[0m\u001b[0;34m\u001b[0m\u001b[0m\n\u001b[0m",
        "\u001b[0;31mTypeError\u001b[0m: No registered converter was able to produce a C++ rvalue of type double from this Python object of type numpy.ndarray"
       ]
      }
     ],
     "prompt_number": 17
    },
    {
     "cell_type": "code",
     "collapsed": false,
     "input": [
      "sol"
     ],
     "language": "python",
     "metadata": {},
     "outputs": []
    },
    {
     "cell_type": "code",
     "collapsed": false,
     "input": [
      "# save the universe numbers\n",
      "universe = np.array([total_universe, target_universe])\n",
      "np.savetxt(\"/Users/rkelley/Development/rovi/my_research/LocalSolver/data/universe.in\", universe, delimiter=\" \",fmt='%15.14f',)"
     ],
     "language": "python",
     "metadata": {},
     "outputs": [],
     "prompt_number": 31
    },
    {
     "cell_type": "heading",
     "level": 1,
     "metadata": {},
     "source": [
      "Set up Local Solver (nonLinear Example optimizing R1+)"
     ]
    },
    {
     "cell_type": "code",
     "collapsed": false,
     "input": [
      "np.savetxt(\"/Users/rkelley/Development/rovi/my_research/LocalSolver/data/p_total.in\", p.flatten(), delimiter=\" \",fmt='%15.14f',)\n",
      "np.savetxt(\"/Users/rkelley/Development/rovi/my_research/LocalSolver/data/p_target.in\", p_target.flatten(), delimiter=\" \",fmt='%15.14f',)"
     ],
     "language": "python",
     "metadata": {},
     "outputs": [],
     "prompt_number": 45
    },
    {
     "cell_type": "code",
     "collapsed": false,
     "input": [
      "np.savetxt(\"/Users/rkelley/Development/rovi/my_research/LocalSolver/data/w_total.in\", w.flatten(), delimiter=\" \",fmt='%15.14f',)\n",
      "np.savetxt(\"/Users/rkelley/Development/rovi/my_research/LocalSolver/data/w_target.in\", w_target.flatten(), delimiter=\" \",fmt='%15.14f',)"
     ],
     "language": "python",
     "metadata": {},
     "outputs": [],
     "prompt_number": 46
    },
    {
     "cell_type": "code",
     "collapsed": false,
     "input": [
      "A = np.array([])"
     ],
     "language": "python",
     "metadata": {},
     "outputs": []
    },
    {
     "cell_type": "code",
     "collapsed": false,
     "input": [
      "# output TRP, Linear, and Quadratic solutions for Local Solver\n",
      "np.savetxt(\"/Users/rkelley/Development/rovi/my_research/LocalSolver/data/u_trp.in\",  U_trp,  delimiter=\",\",fmt='%i')\n",
      "np.savetxt(\"/Users/rkelley/Development/rovi/my_research/LocalSolver/data/u_lin.in\",  U_lin,  delimiter=\",\",fmt='%i')\n",
      "np.savetxt(\"/Users/rkelley/Development/rovi/my_research/LocalSolver/data/u_quad.in\", U_quad, delimiter=\",\",fmt='%i')"
     ],
     "language": "python",
     "metadata": {},
     "outputs": [],
     "prompt_number": 29
    },
    {
     "cell_type": "heading",
     "level": 2,
     "metadata": {},
     "source": [
      "Cut and Past Solution from Local Solver:"
     ]
    },
    {
     "cell_type": "code",
     "collapsed": false,
     "input": [
      "U_LS_quad = np.loadtxt(\"/Users/rkelley/Development/rovi/my_research/LocalSolver/output/sol_quad.txt\")\n",
      "U_LS_quad = U_LS_quad.reshape([Np,1])"
     ],
     "language": "python",
     "metadata": {},
     "outputs": [],
     "prompt_number": 56
    },
    {
     "cell_type": "code",
     "collapsed": false,
     "input": [
      "R(U_LS_quad)"
     ],
     "language": "python",
     "metadata": {},
     "outputs": [
      {
       "metadata": {},
       "output_type": "pyout",
       "prompt_number": 57,
       "text": [
        "0.1138793318124991"
       ]
      }
     ],
     "prompt_number": 57
    },
    {
     "cell_type": "code",
     "collapsed": false,
     "input": [
      "U_LS_trp = np.loadtxt(\"/Users/rkelley/Development/rovi/my_research/LocalSolver/output/sol_trp.txt\")\n",
      "U_LS_trp = U_LS_trp.reshape([Np,1])\n",
      "R(U_LS_trp)"
     ],
     "language": "python",
     "metadata": {},
     "outputs": [
      {
       "metadata": {},
       "output_type": "pyout",
       "prompt_number": 58,
       "text": [
        "0.10540783939930898"
       ]
      }
     ],
     "prompt_number": 58
    },
    {
     "cell_type": "code",
     "collapsed": false,
     "input": [
      "U_LS_linear = np.loadtxt(\"/Users/rkelley/Development/rovi/my_research/LocalSolver/output/sol_lin.txt\")\n",
      "U_LS_linear = U_LS_linear.reshape([Np,1])\n",
      "R(U_LS_linear)"
     ],
     "language": "python",
     "metadata": {},
     "outputs": [
      {
       "metadata": {},
       "output_type": "pyout",
       "prompt_number": 59,
       "text": [
        "0.10505117049801649"
       ]
      }
     ],
     "prompt_number": 59
    },
    {
     "cell_type": "code",
     "collapsed": false,
     "input": [
      "print('quadratic:      R(U_quad)   = %9.8f'     %R(U_quad))\n",
      "print('LS quadratic:   R(U_LS_quad)= %9.8f\\n' %R(U_LS_quad))\n",
      "\n",
      "print('Linear:      R(U_lin)   = %9.8f'     %R(U_lin))\n",
      "print('LS Linear:   R(U_LS_lin)= %9.8f\\n' %R(U_LS_linear))\n",
      "\n",
      "print('TRP:      R(U_trp)   = %9.8f'     %R(U_trp))\n",
      "print('LS TRP:   R(U_LS_trp)= %9.8f\\n' %R(U_LS_trp))"
     ],
     "language": "python",
     "metadata": {},
     "outputs": [
      {
       "output_type": "stream",
       "stream": "stdout",
       "text": [
        "quadratic:      R(U_quad)   = 0.11385848\n",
        "LS quadratic:   R(U_LS_quad)= 0.11387933\n",
        "\n",
        "Linear:      R(U_lin)   = 0.09532359\n",
        "LS Linear:   R(U_LS_lin)= 0.10505117\n",
        "\n",
        "TRP:      R(U_trp)   = 0.09636640\n",
        "LS TRP:   R(U_LS_trp)= 0.10540784\n",
        "\n"
       ]
      }
     ],
     "prompt_number": 68
    },
    {
     "cell_type": "code",
     "collapsed": false,
     "input": [],
     "language": "python",
     "metadata": {},
     "outputs": []
    }
   ],
   "metadata": {}
  }
 ]
}